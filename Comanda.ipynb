{
  "nbformat": 4,
  "nbformat_minor": 0,
  "metadata": {
    "colab": {
      "name": "Comanda.ipynb",
      "provenance": [],
      "collapsed_sections": []
    },
    "kernelspec": {
      "name": "python3",
      "display_name": "Python 3"
    },
    "language_info": {
      "name": "python"
    }
  },
  "cells": [
    {
      "cell_type": "code",
      "metadata": {
        "colab": {
          "base_uri": "https://localhost:8080/"
        },
        "id": "2ElYb0Z11njt",
        "outputId": "1dc61b1e-dc5e-4014-ec0b-57e407d9db97"
      },
      "source": [
        "print(\"Universidad Nacional Autonoma de México\")\n",
        "print(\"Facultad de Estudios Superiores Aragón\")\n",
        "print(\"Nombre: Trejo Ramirez Juan Pablo\")\n",
        "print(\"Estructura de Datos\")\n",
        "print(\"Grupo: 1310\")\n",
        "print(\"Maestro: Jesus Hernandez Cabrera\")\n",
        "print(\"---------------------------------------------\")\n",
        "print(\"\\nLevantar la  Comanda de un Restaurante\")\n",
        "\n",
        "\n",
        "menu_select = {\n",
        "    \"mesa\" : 3,\n",
        "    \"comensal\" : 2,\n",
        "    \"entrada\" : \"ensalada verde\",\n",
        "    \"medio\" : \"crema de zanahotia\",\n",
        "    \"fuerte\" : \"filete\",\n",
        "    \"adicionales\" : \"Filete término medio, la ensalada sin ningun tipo de semilla, adereso Ranch\"\n",
        "          }\n",
        "print(\"Detalles: \")\n",
        "print(f'\\tMesa: {menu_select[\"mesa\"]}')\n",
        "print(f'\\tComensal: {menu_select[\"comensal\"]}')\n",
        "print(f'\\tEntrada: {menu_select[\"entrada\"]}')\n",
        "print(f'\\tMedio: {menu_select[\"medio\"]}')\n",
        "print(f'\\tFuerte: {menu_select[\"fuerte\"]}')\n",
        "print(f'Adicionales: {menu_select[\"adicionales\"]}')\n"
      ],
      "execution_count": null,
      "outputs": [
        {
          "output_type": "stream",
          "name": "stdout",
          "text": [
            "Universidad Nacional Autonoma de México\n",
            "Facultad de Estudios Superiores Aragón\n",
            "Nombre: Trejo Ramirez Juan Pablo\n",
            "Estructura de Datos\n",
            "Grupo: 1310\n",
            "Maestro: Jesus Hernandez Cabrera\n",
            "---------------------------------------------\n",
            "\n",
            "Levantar la  Comanda de un Restaurante\n",
            "Detalles: \n",
            "\tMesa: 3\n",
            "\tComensal: 2\n",
            "\tEntrada: ensalada verde\n",
            "\tMedio: crema de zanahotia\n",
            "\tFuerte: filete\n",
            "Adicionales: Filete término medio, la ensalada sin ningun tipo de semilla, adereso Ranch\n"
          ]
        }
      ]
    }
  ]
}